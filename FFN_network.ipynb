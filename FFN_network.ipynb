{
  "nbformat": 4,
  "nbformat_minor": 0,
  "metadata": {
    "colab": {
      "provenance": [],
      "authorship_tag": "ABX9TyM+Mx/pWyvUqJs7uVWbKiWO",
      "include_colab_link": true
    },
    "kernelspec": {
      "name": "python3",
      "display_name": "Python 3"
    },
    "language_info": {
      "name": "python"
    }
  },
  "cells": [
    {
      "cell_type": "markdown",
      "metadata": {
        "id": "view-in-github",
        "colab_type": "text"
      },
      "source": [
        "<a href=\"https://colab.research.google.com/github/Abhiraghava/Deep_learning/blob/main/FFN_network.ipynb\" target=\"_parent\"><img src=\"https://colab.research.google.com/assets/colab-badge.svg\" alt=\"Open In Colab\"/></a>"
      ]
    },
    {
      "cell_type": "code",
      "execution_count": 1,
      "metadata": {
        "colab": {
          "base_uri": "https://localhost:8080/"
        },
        "id": "qeisEZTLcRAe",
        "outputId": "10abe73d-bc54-4cc2-b0f4-48844c19b51b"
      },
      "outputs": [
        {
          "output_type": "stream",
          "name": "stdout",
          "text": [
            "Epoch 1/10\n",
            "13/13 [==============================] - 2s 40ms/step - loss: 0.4157 - accuracy: 0.8191 - val_loss: 0.2183 - val_accuracy: 0.9348\n",
            "Epoch 2/10\n",
            "13/13 [==============================] - 0s 8ms/step - loss: 0.1573 - accuracy: 0.9487 - val_loss: 0.1381 - val_accuracy: 0.9130\n",
            "Epoch 3/10\n",
            "13/13 [==============================] - 0s 6ms/step - loss: 0.1041 - accuracy: 0.9658 - val_loss: 0.1082 - val_accuracy: 0.9348\n",
            "Epoch 4/10\n",
            "13/13 [==============================] - 0s 6ms/step - loss: 0.0776 - accuracy: 0.9804 - val_loss: 0.0994 - val_accuracy: 0.9783\n",
            "Epoch 5/10\n",
            "13/13 [==============================] - 0s 11ms/step - loss: 0.0650 - accuracy: 0.9829 - val_loss: 0.0916 - val_accuracy: 0.9565\n",
            "Epoch 6/10\n",
            "13/13 [==============================] - 0s 6ms/step - loss: 0.0557 - accuracy: 0.9853 - val_loss: 0.0872 - val_accuracy: 0.9565\n",
            "Epoch 7/10\n",
            "13/13 [==============================] - 0s 12ms/step - loss: 0.0490 - accuracy: 0.9853 - val_loss: 0.0848 - val_accuracy: 0.9565\n",
            "Epoch 8/10\n",
            "13/13 [==============================] - 0s 9ms/step - loss: 0.0436 - accuracy: 0.9878 - val_loss: 0.0820 - val_accuracy: 0.9565\n",
            "Epoch 9/10\n",
            "13/13 [==============================] - 0s 10ms/step - loss: 0.0389 - accuracy: 0.9902 - val_loss: 0.0830 - val_accuracy: 0.9348\n",
            "Epoch 10/10\n",
            "13/13 [==============================] - 0s 10ms/step - loss: 0.0354 - accuracy: 0.9927 - val_loss: 0.0803 - val_accuracy: 0.9565\n",
            "4/4 [==============================] - 0s 8ms/step - loss: 0.0691 - accuracy: 0.9649\n",
            "Test loss: 0.0691\n",
            "Test accuracy: 0.9649\n"
          ]
        }
      ],
      "source": [
        "import numpy as np\n",
        "import tensorflow as tf\n",
        "from tensorflow import keras\n",
        "from sklearn.datasets import load_breast_cancer\n",
        "from sklearn.model_selection import train_test_split\n",
        "from sklearn.preprocessing import StandardScaler\n",
        "\n",
        "# Load the Breast Cancer dataset\n",
        "data = load_breast_cancer()\n",
        "X = data.data\n",
        "y = data.target\n",
        "\n",
        "# Split the dataset into training and testing sets\n",
        "X_train, X_test, y_train, y_test = train_test_split(X, y, test_size=0.2, random_state=42)\n",
        "\n",
        "# Normalize the features using StandardScaler\n",
        "scaler = StandardScaler()\n",
        "X_train_scaled = scaler.fit_transform(X_train)\n",
        "X_test_scaled = scaler.transform(X_test)\n",
        "\n",
        "# Get the number of features and classes\n",
        "num_features = X_train.shape[1]\n",
        "num_classes = len(np.unique(y))\n",
        "\n",
        "# Define the FNN architecture\n",
        "model = keras.Sequential([\n",
        "    keras.layers.Input(shape=(num_features,)),  # Input layer\n",
        "    keras.layers.Dense(128, activation='relu'),  # Hidden layer with ReLU activation\n",
        "    keras.layers.Dense(64, activation='relu'),   # Another hidden layer\n",
        "    keras.layers.Dense(num_classes, activation='softmax')  # Output layer with softmax activation\n",
        "])\n",
        "\n",
        "# Compile the model\n",
        "model.compile(optimizer='adam', loss='sparse_categorical_crossentropy', metrics=['accuracy'])\n",
        "\n",
        "# Train the model\n",
        "model.fit(X_train_scaled, y_train, epochs=10, batch_size=32, validation_split=0.1)\n",
        "\n",
        "# Evaluate the model on the test set\n",
        "loss, accuracy = model.evaluate(X_test_scaled, y_test)\n",
        "print(f\"Test loss: {loss:.4f}\")\n",
        "print(f\"Test accuracy: {accuracy:.4f}\")\n"
      ]
    }
  ]
}